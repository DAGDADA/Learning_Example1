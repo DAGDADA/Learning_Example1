{
 "cells": [
  {
   "cell_type": "code",
   "id": "initial_id",
   "metadata": {
    "collapsed": true,
    "ExecuteTime": {
     "end_time": "2025-06-08T14:36:45.274449Z",
     "start_time": "2025-06-08T14:36:43.205539Z"
    }
   },
   "source": [
    "import model_loader\n",
    "import pipeline\n",
    "from PIL import Image\n",
    "from transformers import CLIPTokenizer\n",
    "import torch\n",
    "\n",
    "DEVICE = \"cpu\"\n",
    "\n",
    "ALLOW_CUDA = False\n",
    "ALLOW_GPU = False\n",
    "\n",
    "# if torch.cuda.is_available() and ALLOW_CUDA:\n",
    "#     DEVICE = \"cuda\"\n",
    "# elif (torch.has_mps or torch.backend.mps.is_available()) and ALLOW_GPU:\n",
    "#     DEVICE =\"gpu\"\n",
    "print(f\"using device {DEVICE}\")\n",
    "\n",
    "tokenizer = CLIPTokenizer(\"E:/stablediffusion_lv/model_para/vocab.json\",merges_file=\"E:/stablediffusion_lv/model_para/merges.txt\")\n",
    "model_file = \"E:/stablediffusion_lv/model_para/v1-5-pruned-emaonly.ckpt\"\n",
    "models = model_loader.preload_model_from_standard_weights(model_file, DEVICE)\n",
    "\n",
    "### TEXT TO IMAGE\n",
    "prompt = \"A cat is lying on the sofa and licking its paw, highly detailed, ultra sharp, cinematic, 8k resolution\"\n",
    "uncond_prompt = \"\"\n",
    "do_cfg = True\n",
    "cfg_scale = 7\n",
    "\n",
    "### IMAGE TO IMAGE\n",
    "input_image = None\n",
    "image_path = \"E:/stablediffusion_lv/data/cat.jpg\"\n",
    "# input_image = Image.open(image_path)\n",
    "# strength = 0.9\n",
    "\n",
    "sampler = \"ddpm\"\n",
    "num_inference_steps = 50\n",
    "seed = 42\n",
    "\n",
    "output_image = pipeline.generate(\n",
    "    prompt=prompt,\n",
    "    uncond_prompt=uncond_prompt,\n",
    "    input_image=input_image,\n",
    "    strength=0.8,\n",
    "    do_cfg=do_cfg,\n",
    "    cfg_scale=cfg_scale,\n",
    "    sampler_name=sampler,\n",
    "    n_inference_step=num_inference_steps,\n",
    "    models=models, \n",
    "    seed=seed, \n",
    "    device=DEVICE,\n",
    "    idle_device=\"cpu\",\n",
    "    tokenizer=tokenizer\n",
    ")\n",
    "\n",
    "Image.fromarray(output_image).save(\"./output/cat.jpg\")"
   ],
   "outputs": [
    {
     "name": "stdout",
     "output_type": "stream",
     "text": [
      "using device cpu\n"
     ]
    },
    {
     "ename": "AttributeError",
     "evalue": "cannot assign module before Module.__init__() call",
     "output_type": "error",
     "traceback": [
      "\u001B[31m---------------------------------------------------------------------------\u001B[39m",
      "\u001B[31mAttributeError\u001B[39m                            Traceback (most recent call last)",
      "\u001B[36mCell\u001B[39m\u001B[36m \u001B[39m\u001B[32mIn[2]\u001B[39m\u001B[32m, line 20\u001B[39m\n\u001B[32m     18\u001B[39m tokenizer = CLIPTokenizer(\u001B[33m\"\u001B[39m\u001B[33mE:/stablediffusion_lv/model_para/vocab.json\u001B[39m\u001B[33m\"\u001B[39m,merges_file=\u001B[33m\"\u001B[39m\u001B[33mE:/stablediffusion_lv/model_para/merges.txt\u001B[39m\u001B[33m\"\u001B[39m)\n\u001B[32m     19\u001B[39m model_file = \u001B[33m\"\u001B[39m\u001B[33mE:/stablediffusion_lv/model_para/v1-5-pruned-emaonly.ckpt\u001B[39m\u001B[33m\"\u001B[39m\n\u001B[32m---> \u001B[39m\u001B[32m20\u001B[39m models = model_loader.preload_model_from_standard_weights(model_file, DEVICE)\n\u001B[32m     22\u001B[39m \u001B[38;5;66;03m### TEXT TO IMAGE\u001B[39;00m\n\u001B[32m     23\u001B[39m prompt = \u001B[33m\"\u001B[39m\u001B[33mA cat is lying on the sofa and licking its paw, highly detailed, ultra sharp, cinematic, 8k resolution\u001B[39m\u001B[33m\"\u001B[39m\n",
      "\u001B[36mFile \u001B[39m\u001B[32mE:\\stablediffusion_lv\\model_loader.py:20\u001B[39m, in \u001B[36mpreload_model_from_standard_weights\u001B[39m\u001B[34m(ckpt_path, device)\u001B[39m\n\u001B[32m     17\u001B[39m decoder = VAE_Decoder().to(device)\n\u001B[32m     18\u001B[39m decoder.load_state_dict(state_dict[\u001B[33m\"\u001B[39m\u001B[33mdecoder\u001B[39m\u001B[33m\"\u001B[39m],strict=\u001B[38;5;28;01mTrue\u001B[39;00m)\n\u001B[32m---> \u001B[39m\u001B[32m20\u001B[39m diffusion = Diffusion().to(device)\n\u001B[32m     21\u001B[39m diffusion.load_state_dict(state_dict[\u001B[33m\"\u001B[39m\u001B[33mdiffusion\u001B[39m\u001B[33m\"\u001B[39m], strict=\u001B[38;5;28;01mTrue\u001B[39;00m)\n\u001B[32m     23\u001B[39m clip = CLIP().to(device)\n",
      "\u001B[36mFile \u001B[39m\u001B[32mE:\\stablediffusion_lv\\diffusion.py:8\u001B[39m, in \u001B[36mDiffusion.__init__\u001B[39m\u001B[34m(self)\u001B[39m\n\u001B[32m      7\u001B[39m \u001B[38;5;28;01mdef\u001B[39;00m\u001B[38;5;250m \u001B[39m\u001B[34m__init__\u001B[39m(\u001B[38;5;28mself\u001B[39m):\n\u001B[32m----> \u001B[39m\u001B[32m8\u001B[39m     \u001B[38;5;28mself\u001B[39m.time_embedding = TimeEmbedding(\u001B[32m320\u001B[39m) \u001B[38;5;66;03m# 时间嵌入的大小\u001B[39;00m\n\u001B[32m      9\u001B[39m     \u001B[38;5;28mself\u001B[39m.unet = UNET()\n\u001B[32m     10\u001B[39m     \u001B[38;5;28mself\u001B[39m.final = UNET_OutputLayer(\u001B[32m320\u001B[39m,\u001B[32m4\u001B[39m)\n",
      "\u001B[36mFile \u001B[39m\u001B[32m~\\.conda\\envs\\stablediffusion_lv\\Lib\\site-packages\\torch\\nn\\modules\\module.py:1977\u001B[39m, in \u001B[36mModule.__setattr__\u001B[39m\u001B[34m(self, name, value)\u001B[39m\n\u001B[32m   1975\u001B[39m \u001B[38;5;28;01mif\u001B[39;00m \u001B[38;5;28misinstance\u001B[39m(value, Module):\n\u001B[32m   1976\u001B[39m     \u001B[38;5;28;01mif\u001B[39;00m modules \u001B[38;5;129;01mis\u001B[39;00m \u001B[38;5;28;01mNone\u001B[39;00m:\n\u001B[32m-> \u001B[39m\u001B[32m1977\u001B[39m         \u001B[38;5;28;01mraise\u001B[39;00m \u001B[38;5;167;01mAttributeError\u001B[39;00m(\n\u001B[32m   1978\u001B[39m             \u001B[33m\"\u001B[39m\u001B[33mcannot assign module before Module.__init__() call\u001B[39m\u001B[33m\"\u001B[39m\n\u001B[32m   1979\u001B[39m         )\n\u001B[32m   1980\u001B[39m     remove_from(\n\u001B[32m   1981\u001B[39m         \u001B[38;5;28mself\u001B[39m.\u001B[34m__dict__\u001B[39m,\n\u001B[32m   1982\u001B[39m         \u001B[38;5;28mself\u001B[39m._parameters,\n\u001B[32m   1983\u001B[39m         \u001B[38;5;28mself\u001B[39m._buffers,\n\u001B[32m   1984\u001B[39m         \u001B[38;5;28mself\u001B[39m._non_persistent_buffers_set,\n\u001B[32m   1985\u001B[39m     )\n\u001B[32m   1986\u001B[39m     \u001B[38;5;28;01mfor\u001B[39;00m hook \u001B[38;5;129;01min\u001B[39;00m _global_module_registration_hooks.values():\n",
      "\u001B[31mAttributeError\u001B[39m: cannot assign module before Module.__init__() call"
     ]
    }
   ],
   "execution_count": 2
  },
  {
   "metadata": {},
   "cell_type": "code",
   "outputs": [],
   "execution_count": null,
   "source": "",
   "id": "3f2c5cff58ee537a"
  }
 ],
 "metadata": {
  "kernelspec": {
   "display_name": "Python 3",
   "language": "python",
   "name": "python3"
  },
  "language_info": {
   "codemirror_mode": {
    "name": "ipython",
    "version": 2
   },
   "file_extension": ".py",
   "mimetype": "text/x-python",
   "name": "python",
   "nbconvert_exporter": "python",
   "pygments_lexer": "ipython2",
   "version": "2.7.6"
  }
 },
 "nbformat": 4,
 "nbformat_minor": 5
}
